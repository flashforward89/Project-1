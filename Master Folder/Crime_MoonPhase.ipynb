{
 "cells": [
  {
   "cell_type": "code",
   "execution_count": 46,
   "metadata": {},
   "outputs": [],
   "source": [
    "#!pip install node\n",
    "#!pip install npm\n",
    "#!pip install sodapy\n",
    "from sodapy import Socrata\n",
    "import matplotlib.pyplot as plt\n",
    "import pandas as pd\n",
    "import numpy as np\n",
    "import json\n",
    "import requests\n",
    "import os\n",
    "import datetime\n",
    "import csv\n",
    "\n",
    "from config import austin_key\n",
    "from config import austin_app"
   ]
  },
  {
   "cell_type": "code",
   "execution_count": 47,
   "metadata": {},
   "outputs": [],
   "source": [
    "app_token= austin_app\n",
    "\n",
    "url = \"https://data.austintexas.gov/resource/fdj4-gpfu.json?\"\n",
    "#crime_history = pd.DataFrame()\n",
    "i=1\n",
    "for i in range (1, 15):\n",
    "    \n",
    "    app_token= austin_app\n",
    "    crime= \"DEL CONTROLLED SUB/NARCOTIC\"\n",
    "\n",
    "\n",
    "    query_url = f\"{url}$$app_token={app_token}&$limit=50000&$offset={50000*i}\"\n",
    "    response = requests.get(query_url).json()\n",
    "    if i == 1:\n",
    "        crime_history=pd.DataFrame(response)\n",
    "        \n",
    "    else:\n",
    "        \n",
    "        crime_history=crime_history.append(response)\n",
    "crime_history.count()"
   ]
  },
  {
   "cell_type": "code",
   "execution_count": null,
   "metadata": {},
   "outputs": [],
   "source": [
    "moon_df = pd.read_csv(\"moon-phase-calendar-landscape_copy.csv\")\n",
    "moon_df = pd.DataFrame(moon_df)\n",
    "moon_df = moon_df.drop(columns=['Unnamed: 3', 'Unnamed: 4'])\n",
    "moon_df.head()\n",
    "#change to date time object and rename column\n",
    "moon_df['Local Date']= pd.to_datetime(moon_df['Local Date'])\n",
    "\n",
    "moon_df.head()"
   ]
  },
  {
   "cell_type": "code",
   "execution_count": null,
   "metadata": {},
   "outputs": [],
   "source": [
    "crime_df = pd.DataFrame(crime_history)\n",
    "crime_df.head()\n",
    "#if you want to group your data by time you have to do resample not .groupby(), can resample by days or by months, check time example pushed out last week\n",
    "#compare if crime occurs more at night consistently vs increasing during full moon\n",
    "#could sample by moon phase or day date \n",
    "#pick 10 full moon days and compare count to 10 non full moon days "
   ]
  },
  {
   "cell_type": "code",
   "execution_count": null,
   "metadata": {},
   "outputs": [],
   "source": [
    "crime_clean_df = crime_df[[\"crime_type\", \"occ_date_time\", \"occ_date\", \"occ_time\", \"rep_date\"]].copy()\n",
    "#checking if occurence is actualy date/time\n",
    "#crime_clean_df.dtypes\n",
    "#convert to datetime object \n",
    "#pd.to_datetime(crime_clean_df['occ_date_time'])\n",
    "#put back into dataframe overwrite column\n",
    "crime_clean_df['occ_date_time']= pd.to_datetime(crime_clean_df['occ_date_time'])\n",
    "crime_clean_df['occ_date']= pd.to_datetime(crime_clean_df['occ_date'])\n",
    "\n",
    "crime_clean_df.head()"
   ]
  },
  {
   "cell_type": "code",
   "execution_count": null,
   "metadata": {},
   "outputs": [],
   "source": [
    "#whatever one is typed first is the left df\n",
    "\n",
    "crime_moon_df= crime_clean_df.merge(moon_df, left_on='occ_date', right_on='Local Date', how='left')\n",
    "crime_moon_df.sample(50)"
   ]
  },
  {
   "cell_type": "code",
   "execution_count": null,
   "metadata": {},
   "outputs": [],
   "source": [
    "crime_moon_df['Lunar Phase'].value_counts()"
   ]
  },
  {
   "cell_type": "code",
   "execution_count": null,
   "metadata": {},
   "outputs": [],
   "source": [
    "#create pivot table of the crime duplicates and sort to find top 50 reported crimes \n",
    "duplicates = crime_clean_df.pivot_table(index = 'crime_type', aggfunc= 'size')\n",
    "#data series can sort index or sort values, default to sort by index so we want to sort by the values instead\n",
    "duplicates.sort_values(ascending= False).head(50)"
   ]
  },
  {
   "cell_type": "code",
   "execution_count": null,
   "metadata": {},
   "outputs": [],
   "source": [
    "#replace one crime type with the more generic types ex \"bicycle theft\" to \"theft\", grouping like crimes in the top 50\n",
    "#df[\"column1\"].replace({\"a\": \"x\", \"b\": \"y\"}, inplace=True)\n",
    "crime_grouped = crime_moon_df.replace({\"THEFT BY SHOPLIFTING\" : \"THEFT\", \"AUTO THEFT\" : \"THEFT\", \"THEFT OF BICYCLE\" : \"THEFT\", \"THEFT OF SERVICE\":\"THEFT\", \"THEFT OF LICENSE PLATE\": \"THEFT\",\n",
    "                                       \"THEFT FROM AUTO\":\"THEFT\", \"THEFT FROM PERSON\":\"THEFT\", \"THEFT FROM BUILDING\":\"THEFT\", \"THEFT OF TRAILER\" :\"THEFT\",\n",
    "                                       \"DWI\":\"INTOXICATION CRIME\", \"PUBLIC INTOXICATION\":\"INTOXICATION CRIME\", \"DWI 2ND\": \"INTOXICATION CRIME\", \n",
    "                                        \"DWI  .15 BAC OR ABOVE\": \"INTOXICATION CRIME\", \"DRIVING WHILE INTOX / FELONY\" : \"INTOXICATION CRIME\",\n",
    "                                       \"POSSESSION OF MARIJUANA\": \"DRUG RELATED\", \"POSS CONTROLLED SUB/NARCOTIC\":\"DRUG RELATED\", \"POSS OF DRUG PARAPHERNALIA\":\"DRUG RELATED\",\n",
    "                                       \"ASSAULT WITH INJURY\":\"ASSAULT\", \"ASSAULT W/INJURY-FAM/DATE VIOL\" : \"ASSAULT\", \"ASSAULT BY CONTACT\" :\"ASSAULT\", \"ASSAULT BY THREAT\": \"ASSAULT\",\n",
    "                                       \"ASSAULT BY CONTACT FAM/DATING\": \"ASSAULT\", \"AGG ASSAULT\":\"ASSAULT\", \"AGG ASLT STRANGLE/SUFFOCATE\":\"ASSAULT\",\n",
    "                                       \"AGG ASSAULT FAM/DATE VIOLENCE\": \"ASSAULT\", \"FELONY ENHANCEMENT/ASSLT W/INJ\" : \"ASSAULT\", \"ASSAULT  CONTACT-SEXUAL NATURE\" :\"ASSAULT\",\n",
    "                                       \"AGG ROBBERY/DEADLY WEAPON\": \"ROBBERY\", \"ROBBERY BY ASSAULT\" :\"ROBBERY\",\n",
    "                                       \"BURGLARY OF VEHICLE\":\"BURGLARY\", \"BURGLARY OF SHED/DETACHED GARAGE/STORAGE UNIT\" : \"BURGLARY\", \"BURGLARY OF RESIDENCE\" : \"BURGLARY\", \"BURGLARY NON RESIDENCE\" :\"BURGLARY\",\n",
    "                                       \"FRAUD - OTHER\" :\"FRAUD\", \"IDENTITY THEFT\":\"FRAUD\", \"FORGERY AND PASSING\":\"FRAUD\", \"CRED CARD ABUSE - OTHER\":\"FRAUD\", \"DEBIT CARD ABUSE\":\"FRAUD\",\n",
    "                                       \"FAMILY DISTURBANCE\":\"DISTURBANCE\",\"DATING DISTURBANCE\":\"DISTURBANCE\",\"FAMILY DISTURBANCE/PARENTAL\":\"DISTURBANCE\",\"DISTURBANCE - OTHER\":\"DISTURBANCE\"})\n",
    "\n",
    "crime_grouped.head()"
   ]
  },
  {
   "cell_type": "code",
   "execution_count": null,
   "metadata": {},
   "outputs": [],
   "source": [
    "#repeat checking duplicates to qc for typos and missed categories that can be grouped \n",
    "\n",
    "duplicate_groups = crime_grouped.pivot_table(index = 'crime_type', aggfunc= 'size')\n",
    "duplicate_groups.sort_values(ascending= False).head(50)\n",
    "\n",
    "#cut the small database at runaway child "
   ]
  },
  {
   "cell_type": "markdown",
   "metadata": {},
   "source": [
    "#Plots by year"
   ]
  },
  {
   "cell_type": "code",
   "execution_count": null,
   "metadata": {},
   "outputs": [],
   "source": [
    "#use groupby occurence date to get a count of the full number of reports submitted by date \n",
    "date_df= crime_moon_df.groupby(['occ_date']).count()\n",
    "date_df.reset_index(inplace=True)\n",
    "#drop first row of data becuase it is incomplete due to how it was pulled from the database \n",
    "date_df = date_df.iloc[1:]\n",
    "date_df.head()"
   ]
  },
  {
   "cell_type": "code",
   "execution_count": null,
   "metadata": {},
   "outputs": [],
   "source": [
    "#line graph of date vs count for all years\n",
    "plt.plot(date_df['occ_date'], date_df['crime_type'])\n",
    "\n",
    "plt.show()"
   ]
  },
  {
   "cell_type": "markdown",
   "metadata": {},
   "source": [
    "There is a lot of noise on the data set and we want to see the x axis in months\n",
    "Going to break up the data by year in order to visualize it on a more appropriate time scale "
   ]
  },
  {
   "cell_type": "code",
   "execution_count": null,
   "metadata": {},
   "outputs": [],
   "source": [
    "#make a data frame for every year using .loc\n",
    "fourteen_df = date_df.loc[(date_df['occ_date'] >= \"2014-04-15\") & (date_df['occ_date'] <= \"2014-12-31\")]\n",
    "#use .loc to select only full moons in order to make the full moon pics on the plot\n",
    "fourteen_full_moon = moon_df.loc[(moon_df['Lunar Phase'] == 'Full Moon') & (moon_df['Local Date'] >= \"2014-04-15\") & (moon_df['Local Date'] <= \"2014-12-31\")]\n",
    "fourteen_full_moon"
   ]
  },
  {
   "cell_type": "code",
   "execution_count": null,
   "metadata": {},
   "outputs": [],
   "source": [
    "#use list comprehendion to create coordinates for the vertical line\n",
    "#need to use a for loop in order to pull all of the full moon dates for the year \n",
    "#x value will be the date and y value will be successive points along the range of the y axis \n",
    "#specify color \n",
    "\n",
    "plt.figure(figsize= (10,5))\n",
    "plt.plot(fourteen_df['occ_date'], fourteen_df['crime_type'])\n",
    "#line where x value stays the same and y value changes \n",
    "#x for x in range 200 to 450\n",
    "for i, row in fourteen_full_moon.iterrows():\n",
    "    x= [row['Local Date'] for x in range (200, 450)]\n",
    "    y= [x for x in range (200, 450)]\n",
    "    \n",
    "    plt.plot(x, y, color=\"red\")\n",
    "\n",
    "plt.title(\"Correlation of Full Moons and Crime Reports per Day- 2014\")\n",
    "plt.xlabel(\"Months\")\n",
    "plt.ylabel(\"Reports per Day\")\n",
    "plt.legend(labels = ['Report Count', 'Full Moon'])\n",
    "plt.show()"
   ]
  },
  {
   "cell_type": "code",
   "execution_count": null,
   "metadata": {},
   "outputs": [],
   "source": [
    "#repeat for 2015\n",
    "fifteen_df = date_df.loc[(date_df['occ_date'] >= \"2015-01-01\") & (date_df['occ_date'] <= \"2015-12-31\")]\n",
    "\n",
    "fifteen_full_moon = moon_df.loc[(moon_df['Lunar Phase'] == 'Full Moon') & (moon_df['Local Date'] >= \"2015-01-01\") & (moon_df['Local Date'] <= \"2015-12-31\")]\n",
    "\n",
    "plt.figure(figsize= (10,5))\n",
    "plt.plot(fifteen_df['occ_date'], fifteen_df['crime_type'])\n",
    "#line where x value stays the same and y value changes \n",
    "#x for x in range 200 to 450\n",
    "for i, row in fifteen_full_moon.iterrows():\n",
    "    x= [row['Local Date'] for x in range (200, 450)]\n",
    "    y= [x for x in range (200, 450)]\n",
    "    \n",
    "    plt.plot(x, y, color=\"red\")\n",
    "\n",
    "plt.title(\"Correlation of Full Moons and Crime Reports per Day- 2015\")\n",
    "plt.xlabel(\"Months\")\n",
    "plt.ylabel(\"Reports per Day\")\n",
    "plt.legend(labels = ['Report Count', 'Full Moon'])\n",
    "plt.show()"
   ]
  },
  {
   "cell_type": "code",
   "execution_count": null,
   "metadata": {},
   "outputs": [],
   "source": [
    "#repeat for 2016\n",
    "sixteen_df = date_df.loc[(date_df['occ_date'] >= \"2016-01-01\") & (date_df['occ_date'] <= \"2016-12-31\")]\n",
    "sixteen_full_moon = moon_df.loc[(moon_df['Lunar Phase'] == 'Full Moon') & (moon_df['Local Date'] >= \"2016-01-01\") & (moon_df['Local Date'] <= \"2016-12-31\")]\n",
    "\n",
    "plt.figure(figsize= (10,5))\n",
    "plt.plot(sixteen_df['occ_date'], sixteen_df['crime_type'])\n",
    "#line where x value stays the same and y value changes \n",
    "#x for x in range 200 to 450\n",
    "for i, row in sixteen_full_moon.iterrows():\n",
    "    x= [row['Local Date'] for x in range (200, 450)]\n",
    "    y= [x for x in range (200, 450)]\n",
    "    \n",
    "    plt.plot(x, y, color=\"red\")\n",
    "\n",
    "plt.title(\"Correlation of Full Moons and Crime Reports per Day- 2016\")\n",
    "plt.xlabel(\"Months\")\n",
    "plt.ylabel(\"Reports per Day\")\n",
    "plt.legend(labels = ['Report Count', 'Full Moon'])\n",
    "plt.show()"
   ]
  },
  {
   "cell_type": "code",
   "execution_count": null,
   "metadata": {},
   "outputs": [],
   "source": [
    "#repeat for 2017\n",
    "seventeen_df = date_df.loc[(date_df['occ_date'] >= \"2017-01-01\") & (date_df['occ_date'] <= \"2017-12-31\")]\n",
    "\n",
    "seventeen_full_moon = moon_df.loc[(moon_df['Lunar Phase'] == 'Full Moon') & (moon_df['Local Date'] >= \"2017-01-01\") & (moon_df['Local Date'] <= \"2017-12-31\")]\n",
    "\n",
    "plt.figure(figsize= (10,5))\n",
    "plt.plot(seventeen_df['occ_date'], seventeen_df['crime_type'])\n",
    "#line where x value stays the same and y value changes \n",
    "#x for x in range 200 to 450\n",
    "for i, row in seventeen_full_moon.iterrows():\n",
    "    x= [row['Local Date'] for x in range (200, 450)]\n",
    "    y= [x for x in range (200, 450)]\n",
    "    \n",
    "    plt.plot(x, y, color=\"red\")\n",
    "\n",
    "plt.title(\"Correlation of Full Moons and Crime Reports per Day- 2017\")\n",
    "plt.xlabel(\"Months\")\n",
    "plt.ylabel(\"Reports per Day\")\n",
    "plt.legend(labels = ['Report Count', 'Full Moon'])\n",
    "plt.show()"
   ]
  },
  {
   "cell_type": "code",
   "execution_count": null,
   "metadata": {},
   "outputs": [],
   "source": [
    "#repeat for 2018\n",
    "eighteen_df = date_df.loc[(date_df['occ_date'] >= \"2018-01-01\") & (date_df['occ_date'] <= \"2018-12-31\")]\n",
    "\n",
    "eighteen_full_moon = moon_df.loc[(moon_df['Lunar Phase'] == 'Full Moon') & (moon_df['Local Date'] >= \"2018-01-01\") & (moon_df['Local Date'] <= \"2018-12-31\")]\n",
    "\n",
    "plt.figure(figsize= (10,5))\n",
    "plt.plot(eighteen_df['occ_date'], eighteen_df['crime_type'])\n",
    "#line where x value stays the same and y value changes \n",
    "#x for x in range 200 to 450\n",
    "for i, row in eighteen_full_moon.iterrows():\n",
    "    x= [row['Local Date'] for x in range (200, 450)]\n",
    "    y= [x for x in range (200, 450)]\n",
    "    \n",
    "    plt.plot(x, y, color=\"red\")\n",
    "\n",
    "plt.title(\"Correlation of Full Moons and Crime Reports per Day- 2018\")\n",
    "plt.xlabel(\"Months\")\n",
    "plt.ylabel(\"Reports per Day\")\n",
    "plt.legend(labels = ['Report Count', 'Full Moon'])\n",
    "plt.show()"
   ]
  },
  {
   "cell_type": "code",
   "execution_count": null,
   "metadata": {},
   "outputs": [],
   "source": [
    "#repeat for 2019\n",
    "nineteen_df = date_df.loc[(date_df['occ_date'] >= \"2019-01-01\") & (date_df['occ_date'] <= \"2019-12-31\")]\n",
    "\n",
    "nineteen_full_moon = moon_df.loc[(moon_df['Lunar Phase'] == 'Full Moon') & (moon_df['Local Date'] >= \"2019-01-01\") & (moon_df['Local Date'] <= \"2019-12-31\")]\n",
    "\n",
    "plt.figure(figsize= (10,5))\n",
    "plt.plot(nineteen_df['occ_date'], nineteen_df['crime_type'])\n",
    "#line where x value stays the same and y value changes \n",
    "#x for x in range 200 to 450\n",
    "for i, row in nineteen_full_moon.iterrows():\n",
    "    x= [row['Local Date'] for x in range (200, 450)]\n",
    "    y= [x for x in range (200, 450)]\n",
    "    \n",
    "    plt.plot(x, y, color=\"red\")\n",
    "\n",
    "plt.title(\"Correlation of Full Moons and Crime Reports per Day- 2019\")\n",
    "plt.xlabel(\"Months\")\n",
    "plt.ylabel(\"Reports per Day\")\n",
    "plt.legend(labels = ['Report Count', 'Full Moon'])\n",
    "plt.show()"
   ]
  },
  {
   "cell_type": "code",
   "execution_count": null,
   "metadata": {},
   "outputs": [],
   "source": [
    "#repeat for 2020\n",
    "twenty_df = date_df.loc[(date_df['occ_date'] >= \"2020-01-01\") & (date_df['occ_date'] <= \"2020-12-31\")]\n",
    "\n",
    "twenty_full_moon = moon_df.loc[(moon_df['Lunar Phase'] == 'Full Moon') & (moon_df['Local Date'] >= \"2020-01-01\") & (moon_df['Local Date'] <= \"2020-12-31\")]\n",
    "\n",
    "plt.figure(figsize= (10,5))\n",
    "plt.plot(twenty_df['occ_date'], twenty_df['crime_type'])\n",
    "#line where x value stays the same and y value changes \n",
    "#x for x in range 200 to 450\n",
    "for i, row in twenty_full_moon.iterrows():\n",
    "    x= [row['Local Date'] for x in range (200, 450)]\n",
    "    y= [x for x in range (200, 450)]\n",
    "    \n",
    "    plt.plot(x, y, color=\"red\")\n",
    "\n",
    "plt.title(\"Correlation of Full Moons and Crime Reports per Day- 2020\")\n",
    "plt.xlabel(\"Months\")\n",
    "plt.ylabel(\"Reports per Day\")\n",
    "plt.legend(labels = ['Report Count', 'Full Moon'])\n",
    "plt.show()"
   ]
  },
  {
   "cell_type": "code",
   "execution_count": null,
   "metadata": {},
   "outputs": [],
   "source": [
    "#create a df with only full moon phases across the full 7 year period (can be used for box and whisker plots) \n",
    "full_moon_list = ['Full Moon']\n",
    "\n",
    "full_moon_df = crime_grouped.loc[crime_grouped['Lunar Phase'].isin(full_moon_list)]\n",
    "\n",
    "full_moon_df.sample(10)"
   ]
  },
  {
   "cell_type": "code",
   "execution_count": null,
   "metadata": {},
   "outputs": [],
   "source": [
    "#create df with only new moon phases across full 7 year period (can be used for box and whisker plots)\n",
    "new_moon_list = ['New Moon']\n",
    "\n",
    "new_moon_df = crime_grouped.loc[crime_grouped['Lunar Phase'].isin(new_moon_list)]\n",
    "\n",
    "new_moon_df.sample(10)"
   ]
  },
  {
   "cell_type": "code",
   "execution_count": null,
   "metadata": {},
   "outputs": [],
   "source": [
    "#create df with only first quarter phases across full 7 year period (can be used for box and whisker plots)\n",
    "new_moon_list = ['First Quarter']\n",
    "\n",
    "first_quarter_df = crime_grouped.loc[crime_grouped['Lunar Phase'].isin(new_moon_list)]\n",
    "\n",
    "first_quarter_df.sample(10)"
   ]
  },
  {
   "cell_type": "code",
   "execution_count": null,
   "metadata": {},
   "outputs": [],
   "source": [
    "#create df with only last quarter moon phases across full 7 year period (can be used for box and whisker plots)\n",
    "new_moon_list = ['Last Quarter']\n",
    "\n",
    "last_quarter_df = crime_grouped.loc[crime_grouped['Lunar Phase'].isin(new_moon_list)]\n",
    "\n",
    "last_quarter_df.sample(10)"
   ]
  },
  {
   "cell_type": "code",
   "execution_count": null,
   "metadata": {},
   "outputs": [],
   "source": [
    "#create a list of the top 10 most reported crimes                \n",
    "crime_list = ['THEFT', 'DISTURBANCE', 'BURGLARY', 'ASSAULT', 'INTOXICATION CRIME', 'CRIMINAL MISCHIEF', 'DRUG RELATED', 'FRAUD', 'HARASSMENT', 'RUNAWAY CHILD']\n",
    "\n",
    "top_crime_df = crime_grouped.loc[crime_grouped['crime_type'].isin(crime_list)]\n",
    "\n",
    "top_crime_df.sample(10)"
   ]
  },
  {
   "cell_type": "code",
   "execution_count": null,
   "metadata": {},
   "outputs": [],
   "source": [
    "top_crime_df['crime_type'].value_counts()"
   ]
  },
  {
   "cell_type": "code",
   "execution_count": null,
   "metadata": {},
   "outputs": [],
   "source": [
    "top_crime_df['Lunar Phase'].value_counts()"
   ]
  },
  {
   "cell_type": "code",
   "execution_count": null,
   "metadata": {},
   "outputs": [],
   "source": [
    "# combine the full moon and new moon data frames\n",
    "lunar_one_df = pd.merge(full_moon_df, new_moon_df, on=['crime_type', 'occ_date_time', 'occ_date', 'occ_time', 'rep_date', 'Lunar Phase', 'Local Date', 'Local Time'], how='left').fillna(0)\n",
    "lunar_one_df.head()"
   ]
  },
  {
   "cell_type": "code",
   "execution_count": null,
   "metadata": {},
   "outputs": [],
   "source": [
    "# Combine the first quarter and last quarter data frames\n",
    "lunar_two_df = pd.merge(first_quarter_df, last_quarter_df, on=['crime_type', 'occ_date_time', 'occ_date', 'occ_time', 'rep_date', 'Lunar Phase', 'Local Date', 'Local Time'], how='left').fillna(0)\n",
    "lunar_two_df.head()"
   ]
  },
  {
   "cell_type": "code",
   "execution_count": null,
   "metadata": {},
   "outputs": [],
   "source": [
    "# combine all of the lunar phase data frames\n",
    "combined_lunar_phase_df = pd.merge(lunar_one_df, lunar_two_df, on=['crime_type', 'occ_date_time', 'occ_date', 'occ_time', 'rep_date', 'Lunar Phase', 'Local Date', 'Local Time'], how='left').fillna(0)\n",
    "combined_lunar_phase_df.head()"
   ]
  },
  {
   "cell_type": "code",
   "execution_count": null,
   "metadata": {},
   "outputs": [],
   "source": [
    "combined_lunar_phase_df['Lunar Phase'].value_counts()"
   ]
  },
  {
   "cell_type": "code",
   "execution_count": null,
   "metadata": {},
   "outputs": [],
   "source": [
    "combined_lunar_phase_df.count()"
   ]
  },
  {
   "cell_type": "code",
   "execution_count": null,
   "metadata": {},
   "outputs": [],
   "source": [
    "combined_lunar_phase_df.dtypes"
   ]
  },
  {
   "cell_type": "code",
   "execution_count": null,
   "metadata": {},
   "outputs": [],
   "source": [
    "\n",
    "intox_list = ['INTOXICATION CRIME']\n",
    "\n",
    "intox_crime_df = crime_grouped.loc[crime_grouped['crime_type'].isin(intox_list)]\n",
    "\n",
    "intox_crime_df.sample(10)"
   ]
  },
  {
   "cell_type": "code",
   "execution_count": null,
   "metadata": {},
   "outputs": [],
   "source": [
    "intox_crime_df['crime_type'].value_counts()"
   ]
  },
  {
   "cell_type": "code",
   "execution_count": null,
   "metadata": {},
   "outputs": [],
   "source": [
    "intox_crime_df['Lunar Phase'].value_counts()"
   ]
  },
  {
   "cell_type": "code",
   "execution_count": null,
   "metadata": {},
   "outputs": [],
   "source": [
    "assault_list = ['ASSAULT']\n",
    "\n",
    "assault_df = crime_grouped.loc[crime_grouped['crime_type'].isin(assault_list)]\n",
    "\n",
    "assault_df.sample(10)"
   ]
  },
  {
   "cell_type": "code",
   "execution_count": null,
   "metadata": {},
   "outputs": [],
   "source": [
    "assault_df['crime_type'].value_counts()"
   ]
  },
  {
   "cell_type": "code",
   "execution_count": null,
   "metadata": {},
   "outputs": [],
   "source": [
    "assault_df['Lunar Phase'].value_counts()"
   ]
  },
  {
   "cell_type": "code",
   "execution_count": null,
   "metadata": {},
   "outputs": [],
   "source": [
    "steal_list = ['THEFT', 'BURGLARY']\n",
    "\n",
    "steal_df = crime_grouped.loc[crime_grouped['crime_type'].isin(steal_list)]\n",
    "\n",
    "steal_df.sample(10)"
   ]
  },
  {
   "cell_type": "code",
   "execution_count": null,
   "metadata": {},
   "outputs": [],
   "source": [
    "steal_df['crime_type'].value_counts()"
   ]
  },
  {
   "cell_type": "code",
   "execution_count": null,
   "metadata": {},
   "outputs": [],
   "source": [
    "steal_df['Lunar Phase'].value_counts()"
   ]
  },
  {
   "cell_type": "code",
   "execution_count": null,
   "metadata": {},
   "outputs": [],
   "source": [
    "drug_list = ['DRUG RELATED']\n",
    "\n",
    "drug_df = crime_grouped.loc[crime_grouped['crime_type'].isin(drug_list)]\n",
    "\n",
    "drug_df.sample(10)"
   ]
  },
  {
   "cell_type": "code",
   "execution_count": null,
   "metadata": {},
   "outputs": [],
   "source": [
    "drug_df['crime_type'].value_counts()"
   ]
  },
  {
   "cell_type": "code",
   "execution_count": null,
   "metadata": {},
   "outputs": [],
   "source": [
    "drug_df['Lunar Phase'].value_counts()"
   ]
  },
  {
   "cell_type": "markdown",
   "metadata": {},
   "source": [
    "-COMPLETED annual daily report numbers with full moon lines plotted on top\n",
    "    -2014\n",
    "    -2015\n",
    "    -2016\n",
    "    -2017\n",
    "    -2018\n",
    "    -2019\n",
    "    -2020\n",
    "    -2021 (erin)\n",
    "    \n",
    "-COMPLETED plot report numbers over all reporting years\n",
    "\n",
    "-box and whisker plots for all years of data, separate boxes for separate moon phases to see if there is a trend (jon)\n",
    "\n",
    "-line graph of 3-5 months with all moon phase lines plotted on top (Fatima)\n",
    "\n",
    "-measure of central tendency for all full moons in datasets (report counts) (greg)\n",
    "\n",
    "-split out violent vs nonviolent crimes for line graphs over 1-2 years and box and whisker plots \n",
    "\n",
    "-compare curves of only top 10 crimes with all crimes \n"
   ]
  },
  {
   "cell_type": "code",
   "execution_count": null,
   "metadata": {},
   "outputs": [],
   "source": []
  }
 ],
 "metadata": {
  "kernelspec": {
   "display_name": "Python 3",
   "language": "python",
   "name": "python3"
  },
  "language_info": {
   "codemirror_mode": {
    "name": "ipython",
    "version": 3
   },
   "file_extension": ".py",
   "mimetype": "text/x-python",
   "name": "python",
   "nbconvert_exporter": "python",
   "pygments_lexer": "ipython3",
   "version": "3.8.5"
  }
 },
 "nbformat": 4,
 "nbformat_minor": 4
}
