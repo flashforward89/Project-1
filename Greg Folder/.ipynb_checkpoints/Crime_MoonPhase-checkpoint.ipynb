{
 "cells": [
  {
   "cell_type": "code",
   "execution_count": 1,
   "metadata": {},
   "outputs": [
    {
     "ename": "ModuleNotFoundError",
     "evalue": "No module named 'config'",
     "output_type": "error",
     "traceback": [
      "\u001b[1;31m---------------------------------------------------------------------------\u001b[0m",
      "\u001b[1;31mModuleNotFoundError\u001b[0m                       Traceback (most recent call last)",
      "\u001b[1;32m<ipython-input-1-de142707f0c2>\u001b[0m in \u001b[0;36m<module>\u001b[1;34m\u001b[0m\n\u001b[0;32m     11\u001b[0m \u001b[1;32mimport\u001b[0m \u001b[0mdatetime\u001b[0m\u001b[1;33m\u001b[0m\u001b[1;33m\u001b[0m\u001b[0m\n\u001b[0;32m     12\u001b[0m \u001b[1;33m\u001b[0m\u001b[0m\n\u001b[1;32m---> 13\u001b[1;33m \u001b[1;32mfrom\u001b[0m \u001b[0mconfig\u001b[0m \u001b[1;32mimport\u001b[0m \u001b[0maustin_key_secret\u001b[0m\u001b[1;33m\u001b[0m\u001b[1;33m\u001b[0m\u001b[0m\n\u001b[0m\u001b[0;32m     14\u001b[0m \u001b[1;32mfrom\u001b[0m \u001b[0mconfig\u001b[0m \u001b[1;32mimport\u001b[0m \u001b[0maustin_api_id\u001b[0m\u001b[1;33m\u001b[0m\u001b[1;33m\u001b[0m\u001b[0m\n",
      "\u001b[1;31mModuleNotFoundError\u001b[0m: No module named 'config'"
     ]
    }
   ],
   "source": [
    "#!pip install node\n",
    "#!pip install npm\n",
    "#!pip install sodapy\n",
    "from sodapy import Socrata\n",
    "import matplotlib.pyplot as plt\n",
    "import pandas as pd\n",
    "import numpy as np\n",
    "import json\n",
    "import requests\n",
    "import os\n",
    "import datetime\n",
    "\n",
    "from config import austin_key_secret\n",
    "from config import austin_api_id"
   ]
  },
  {
   "cell_type": "code",
   "execution_count": null,
   "metadata": {},
   "outputs": [],
   "source": [
    "#need to install extensions in vscode for instant markdown(by david bankier)\n",
    "#allows you to open a readme inside vscode that looks how the formatting should when you load it to git hub \n",
    "#allows you to real time edit the readme and you can see how the readme formatting changes in git hub \n",
    "#concept of bullets in markdown is asterisk (will be formatted as bullets in the git file)\n",
    "#*italic*\n",
    "#**bold**\n",
    "#***bold italic***\n",
    "#--- will create a separating line across the file\n",
    "#insert pictures with [caption](link to pic in file structure)  ex. ()\n",
    "# number of ## in front of the text will change the size (more # means bigger font)\n",
    "# tab indent below a bullet with another * will format a hollow sub bulllet\n",
    "# using the `` around a phrase will format it as a code snippet (gray background and typewriter font)\n",
    "# ||| will be a column separator to make tables from scratch\n",
    "#|header 1|header 2\n",
    "#------|-----\n",
    "#|h1 data|h2 data\n",
    "# : tells the table where to align the words (-----: rt align :----- left align)\n",
    "#check out markdown cheat sheet on wikipedia"
   ]
  },
  {
   "cell_type": "code",
   "execution_count": null,
   "metadata": {},
   "outputs": [],
   "source": [
    "#not going to use the FBI data because it is submitted annually by the individual agencies so the data in the reports is compiled on an annual basis \n",
    "#we need data that is by day so we can see trends across the monthly \n",
    "#api_key=fbi_api_key\n",
    "#state = \"state\"\n",
    "#url = \"https://api.usa.gov/crime/fbi/sapi/\"\n",
    "#query_url = f\"https://api.usa.gov/crime/fbi/sapi/api/summarized/agencies/TX1010000/homicide/2017/2019?API_KEY=iiHnOKfno2Mgkt5AynpvPpUQTEyxE77jo1RU8PIv\"\n",
    "#query_url\n",
    "#client = Socrata(\"data.austintexas.gov\", None)\n",
    "#results = client.get(\"fdj4-gpfu\", limit=2000)\n",
    "#results_df = pd.DataFrame.from_records(results)\n",
    "\n",
    "#results_df.head()\n",
    "\n",
    "app_token= austin_api_id\n",
    "\n",
    "url = \"https://data.austintexas.gov/resource/fdj4-gpfu.json?\"\n",
    "app_token= austin_api_id\n",
    "crime= \"DEL CONTROLLED SUB/NARCOTIC\"\n",
    "\n",
    "#query_url = f\"{url}$$app_token={app_token}&crime_type={crime}\"\n",
    "query_url = f\"{url}$$app_token={app_token}\"\n",
    "query_url"
   ]
  },
  {
   "cell_type": "code",
   "execution_count": null,
   "metadata": {},
   "outputs": [],
   "source": [
    "response = requests.get(query_url).json()\n",
    "#response[1]['crime_type']\n",
    "print(json.dumps(response, indent=4))"
   ]
  },
  {
   "cell_type": "code",
   "execution_count": null,
   "metadata": {},
   "outputs": [],
   "source": [
    "crime_df = pd.DataFrame(response)\n",
    "crime_df.head()"
   ]
  },
  {
   "cell_type": "code",
   "execution_count": null,
   "metadata": {},
   "outputs": [],
   "source": [
    "#think of some crimes you think are more or less likely to be committed under a full moon/ at night etc\n",
    "#adding databases together vertically will be concatenate; filter databases down to crime type and occurence date \n",
    "#pd.concat[]\n",
    "all_crimes = [response[i]['crime_type'] for i in range (len(response))]\n",
    "set(all_crimes)"
   ]
  },
  {
   "cell_type": "code",
   "execution_count": null,
   "metadata": {},
   "outputs": [],
   "source": []
  },
  {
   "cell_type": "code",
   "execution_count": null,
   "metadata": {},
   "outputs": [],
   "source": []
  }
 ],
 "metadata": {
  "kernelspec": {
   "display_name": "Python 3",
   "language": "python",
   "name": "python3"
  },
  "language_info": {
   "codemirror_mode": {
    "name": "ipython",
    "version": 3
   },
   "file_extension": ".py",
   "mimetype": "text/x-python",
   "name": "python",
   "nbconvert_exporter": "python",
   "pygments_lexer": "ipython3",
   "version": "3.8.5"
  }
 },
 "nbformat": 4,
 "nbformat_minor": 4
}
